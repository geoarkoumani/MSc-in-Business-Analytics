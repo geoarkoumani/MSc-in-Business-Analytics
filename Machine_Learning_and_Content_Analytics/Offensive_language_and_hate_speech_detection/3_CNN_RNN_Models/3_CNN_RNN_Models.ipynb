{
  "cells": [
    {
      "cell_type": "markdown",
      "metadata": {
        "id": "6eBa4NWEoz6-"
      },
      "source": [
        "# Machine Learning and Content Analytics – Mini Project\n",
        "\n",
        "# Offensive language and hate speech detection \n",
        "---\n",
        "> Students: `Arkoumani Georgia - p2822104` `Poulou Myrto - p2822129` `Koutsodimitropoulou Anastasia - p2822119` `Zaragka Eftychia - p2822112` <br />\n",
        "> Professor: Haris Papageorgiou (xaris@ilsp.gr) <br />\n",
        "> Assistant responsible for this assignment: George Perakis (gperakis@aueb.gr) <br />\n",
        "> Department of Management Science and Technology <br />\n",
        "> Athens University of Economics and Business <br />\n",
        "> Date: 28/08/2022"
      ]
    },
    {
      "cell_type": "markdown",
      "metadata": {
        "id": "vksjVRX8D2Eo"
      },
      "source": [
        "* Import all the required libraries"
      ]
    },
    {
      "cell_type": "code",
      "execution_count": null,
      "metadata": {
        "id": "zSb8IotS4_0A"
      },
      "outputs": [],
      "source": [
        "from google.colab import drive\n",
        "\n",
        "import warnings\n",
        "\n",
        "warnings.filterwarnings(\"ignore\")\n",
        "\n",
        "#from glob import glob\n",
        "\n",
        "from imblearn.over_sampling._smote.base import Counter\n",
        "from imblearn.over_sampling import SMOTE\n",
        "\n",
        "import matplotlib.pyplot as plt\n",
        "import nltk\n",
        "import numpy as np\n",
        "import pandas as pd\n",
        "import seaborn as sns\n",
        "\n",
        "from sklearn.model_selection import train_test_split\n",
        "\n",
        "from keras.utils.np_utils import to_categorical\n",
        "from keras.preprocessing.text import Tokenizer\n",
        "from keras_preprocessing.sequence import pad_sequences\n",
        "\n",
        "from tqdm import tqdm\n",
        "\n",
        "from keras.layers import (Embedding, Flatten, Dense,\n",
        "                          Dropout, Activation, LSTM,\n",
        "                          Bidirectional, BatchNormalization,\n",
        "                          Conv1D, GlobalMaxPooling1D, SpatialDropout1D,\n",
        "                          MaxPooling1D)\n",
        "\n",
        "from keras.models import Sequential\n",
        "from tensorflow.keras.optimizers import Adam\n",
        "from keras.callbacks import EarlyStopping\n",
        "\n",
        "from sklearn.metrics import confusion_matrix\n",
        "from sklearn import metrics\n",
        "from sklearn.metrics import classification_report\n",
        "\n",
        "#from google.colab import files"
      ]
    },
    {
      "cell_type": "markdown",
      "metadata": {
        "id": "-rLCE8dLE9Bh"
      },
      "source": [
        "# Preparation\n",
        "Before proceeding with the steps described in the upcoming sections, create in Google Drive a folder named \"MLCA_Datasets\". Over there, there store:\n",
        "\n",
        "*   more_cleaned_df.csv\n",
        "*   glove.6B.100d.txt\n",
        "*   glove.6B.300d.txt\n",
        "\n"
      ]
    },
    {
      "cell_type": "markdown",
      "metadata": {
        "id": "t3TSM0FcD9zs"
      },
      "source": [
        "# Load Data\n",
        "\n",
        "Unzip and load the \"more_cleaned_df.csv\""
      ]
    },
    {
      "cell_type": "code",
      "source": [
        "#Establish connection with Google Drive:\n",
        "drive.mount('/content/drive', force_remount=True) #access Google Drive\n",
        "\n",
        "!unzip -u \"/content/drive/My Drive/MLCA_Datasets/more_cleaned_df.zip\" -d \"/content/drive/My Drive/folder/MLCA_Datasets\""
      ],
      "metadata": {
        "colab": {
          "base_uri": "https://localhost:8080/"
        },
        "id": "eIm_BACOPrH7",
        "outputId": "93e05cba-23f8-4d6c-e5df-6de4a8ed2249"
      },
      "execution_count": null,
      "outputs": [
        {
          "output_type": "stream",
          "name": "stdout",
          "text": [
            "Mounted at /content/drive\n"
          ]
        }
      ]
    },
    {
      "cell_type": "code",
      "execution_count": null,
      "metadata": {
        "id": "e051DMwl5Gic"
      },
      "outputs": [],
      "source": [
        "data_path = \"/content/drive/My Drive/MLCA_Datasets/\" #access the folder\n",
        "\n",
        "'''\n",
        "#Alternate way of data load:\n",
        "\n",
        "uploaded = files.upload()\n",
        "\n",
        "!unzip \"more_cleaned_df.zip\"\n",
        "cleaned_df = pd.read_csv('more_cleaned_df.csv')\n",
        "'''\n",
        "\n",
        "#Load csv file\n",
        "df = pd.read_csv(data_path + \"more_cleaned_df.csv\", sep=',')\n",
        "#df\n",
        "\n",
        "# Choose a random sample of 500.000 records\n",
        "import random\n",
        "pull = 500000\n",
        "i_sample = random.choices(range(len(df)), k=pull)\n",
        "df = df.iloc[i_sample]"
      ]
    },
    {
      "cell_type": "code",
      "source": [
        "# Check if the data are imbalanced:\n",
        "\n",
        "df.groupby('category').count()"
      ],
      "metadata": {
        "colab": {
          "base_uri": "https://localhost:8080/",
          "height": 143
        },
        "id": "FCZqFZjTSoCC",
        "outputId": "2abe69c4-86fe-42a7-c24c-14295d703f4a"
      },
      "execution_count": null,
      "outputs": [
        {
          "output_type": "execute_result",
          "data": {
            "text/plain": [
              "          lemmatized\n",
              "category            \n",
              "0             481776\n",
              "1              18224"
            ],
            "text/html": [
              "\n",
              "  <div id=\"df-6e54929a-536b-4ec5-86d1-f230f2b8cea2\">\n",
              "    <div class=\"colab-df-container\">\n",
              "      <div>\n",
              "<style scoped>\n",
              "    .dataframe tbody tr th:only-of-type {\n",
              "        vertical-align: middle;\n",
              "    }\n",
              "\n",
              "    .dataframe tbody tr th {\n",
              "        vertical-align: top;\n",
              "    }\n",
              "\n",
              "    .dataframe thead th {\n",
              "        text-align: right;\n",
              "    }\n",
              "</style>\n",
              "<table border=\"1\" class=\"dataframe\">\n",
              "  <thead>\n",
              "    <tr style=\"text-align: right;\">\n",
              "      <th></th>\n",
              "      <th>lemmatized</th>\n",
              "    </tr>\n",
              "    <tr>\n",
              "      <th>category</th>\n",
              "      <th></th>\n",
              "    </tr>\n",
              "  </thead>\n",
              "  <tbody>\n",
              "    <tr>\n",
              "      <th>0</th>\n",
              "      <td>481776</td>\n",
              "    </tr>\n",
              "    <tr>\n",
              "      <th>1</th>\n",
              "      <td>18224</td>\n",
              "    </tr>\n",
              "  </tbody>\n",
              "</table>\n",
              "</div>\n",
              "      <button class=\"colab-df-convert\" onclick=\"convertToInteractive('df-6e54929a-536b-4ec5-86d1-f230f2b8cea2')\"\n",
              "              title=\"Convert this dataframe to an interactive table.\"\n",
              "              style=\"display:none;\">\n",
              "        \n",
              "  <svg xmlns=\"http://www.w3.org/2000/svg\" height=\"24px\"viewBox=\"0 0 24 24\"\n",
              "       width=\"24px\">\n",
              "    <path d=\"M0 0h24v24H0V0z\" fill=\"none\"/>\n",
              "    <path d=\"M18.56 5.44l.94 2.06.94-2.06 2.06-.94-2.06-.94-.94-2.06-.94 2.06-2.06.94zm-11 1L8.5 8.5l.94-2.06 2.06-.94-2.06-.94L8.5 2.5l-.94 2.06-2.06.94zm10 10l.94 2.06.94-2.06 2.06-.94-2.06-.94-.94-2.06-.94 2.06-2.06.94z\"/><path d=\"M17.41 7.96l-1.37-1.37c-.4-.4-.92-.59-1.43-.59-.52 0-1.04.2-1.43.59L10.3 9.45l-7.72 7.72c-.78.78-.78 2.05 0 2.83L4 21.41c.39.39.9.59 1.41.59.51 0 1.02-.2 1.41-.59l7.78-7.78 2.81-2.81c.8-.78.8-2.07 0-2.86zM5.41 20L4 18.59l7.72-7.72 1.47 1.35L5.41 20z\"/>\n",
              "  </svg>\n",
              "      </button>\n",
              "      \n",
              "  <style>\n",
              "    .colab-df-container {\n",
              "      display:flex;\n",
              "      flex-wrap:wrap;\n",
              "      gap: 12px;\n",
              "    }\n",
              "\n",
              "    .colab-df-convert {\n",
              "      background-color: #E8F0FE;\n",
              "      border: none;\n",
              "      border-radius: 50%;\n",
              "      cursor: pointer;\n",
              "      display: none;\n",
              "      fill: #1967D2;\n",
              "      height: 32px;\n",
              "      padding: 0 0 0 0;\n",
              "      width: 32px;\n",
              "    }\n",
              "\n",
              "    .colab-df-convert:hover {\n",
              "      background-color: #E2EBFA;\n",
              "      box-shadow: 0px 1px 2px rgba(60, 64, 67, 0.3), 0px 1px 3px 1px rgba(60, 64, 67, 0.15);\n",
              "      fill: #174EA6;\n",
              "    }\n",
              "\n",
              "    [theme=dark] .colab-df-convert {\n",
              "      background-color: #3B4455;\n",
              "      fill: #D2E3FC;\n",
              "    }\n",
              "\n",
              "    [theme=dark] .colab-df-convert:hover {\n",
              "      background-color: #434B5C;\n",
              "      box-shadow: 0px 1px 3px 1px rgba(0, 0, 0, 0.15);\n",
              "      filter: drop-shadow(0px 1px 2px rgba(0, 0, 0, 0.3));\n",
              "      fill: #FFFFFF;\n",
              "    }\n",
              "  </style>\n",
              "\n",
              "      <script>\n",
              "        const buttonEl =\n",
              "          document.querySelector('#df-6e54929a-536b-4ec5-86d1-f230f2b8cea2 button.colab-df-convert');\n",
              "        buttonEl.style.display =\n",
              "          google.colab.kernel.accessAllowed ? 'block' : 'none';\n",
              "\n",
              "        async function convertToInteractive(key) {\n",
              "          const element = document.querySelector('#df-6e54929a-536b-4ec5-86d1-f230f2b8cea2');\n",
              "          const dataTable =\n",
              "            await google.colab.kernel.invokeFunction('convertToInteractive',\n",
              "                                                     [key], {});\n",
              "          if (!dataTable) return;\n",
              "\n",
              "          const docLinkHtml = 'Like what you see? Visit the ' +\n",
              "            '<a target=\"_blank\" href=https://colab.research.google.com/notebooks/data_table.ipynb>data table notebook</a>'\n",
              "            + ' to learn more about interactive tables.';\n",
              "          element.innerHTML = '';\n",
              "          dataTable['output_type'] = 'display_data';\n",
              "          await google.colab.output.renderOutput(dataTable, element);\n",
              "          const docLink = document.createElement('div');\n",
              "          docLink.innerHTML = docLinkHtml;\n",
              "          element.appendChild(docLink);\n",
              "        }\n",
              "      </script>\n",
              "    </div>\n",
              "  </div>\n",
              "  "
            ]
          },
          "metadata": {},
          "execution_count": 5
        }
      ]
    },
    {
      "cell_type": "markdown",
      "metadata": {
        "id": "VUpgrlAyEjW_"
      },
      "source": [
        "# Data Pre-Processing\n"
      ]
    },
    {
      "cell_type": "code",
      "execution_count": null,
      "metadata": {
        "colab": {
          "base_uri": "https://localhost:8080/"
        },
        "id": "aIbSTjyK5iNo",
        "outputId": "103a2f9c-4771-4291-fd8c-61a8234d9559"
      },
      "outputs": [
        {
          "output_type": "execute_result",
          "data": {
            "text/plain": [
              "<keras_preprocessing.text.Tokenizer at 0x7fed8852a790>"
            ]
          },
          "metadata": {},
          "execution_count": 4
        }
      ],
      "source": [
        "#Find max number of words:\n",
        "\n",
        "word_freqs = nltk.FreqDist(df.lemmatized.str.split(\" \").sum())\n",
        "\n",
        "max_words = len(word_freqs) # Consider the length of word_freqs as the most used words in the dataset\n",
        "\n",
        "# Setting up Keras tokenizer, in order to vectorize a text corpus, \n",
        "# by turning each text into a sequence of integers:\n",
        "\n",
        "comments_tokenizer = Tokenizer(num_words=max_words, lower=True, oov_token='<OOV>')\n",
        "comments_tokenizer"
      ]
    },
    {
      "cell_type": "code",
      "execution_count": null,
      "metadata": {
        "id": "UFI8jcCA9LgP"
      },
      "outputs": [],
      "source": [
        "# Generate tokens by counting frequency:\n",
        "comments_tokenizer.fit_on_texts(df['lemmatized'])"
      ]
    },
    {
      "cell_type": "code",
      "execution_count": null,
      "metadata": {
        "id": "wZzgMm1d9dwt"
      },
      "outputs": [],
      "source": [
        "# With the following action, the text turns intro sequence of numbers:\n",
        "sequences = comments_tokenizer.texts_to_sequences(df['lemmatized'])"
      ]
    },
    {
      "cell_type": "code",
      "execution_count": null,
      "metadata": {
        "id": "Q6isYEGz9lOH"
      },
      "outputs": [],
      "source": [
        "# The tokenizers word_index is a dictionary that maps each word to a number:\n",
        "word_index = comments_tokenizer.word_index"
      ]
    },
    {
      "cell_type": "markdown",
      "metadata": {
        "id": "HgqWUr-JF7kS"
      },
      "source": [
        "In the next step it was rather important to identify what would be the max sequence of all the comments (in order to proceed with their padding). In order to achieve that, it was first important to conduct the distribution of the 'lemmatized' column, and identify the cumulative percent of text."
      ]
    },
    {
      "cell_type": "code",
      "execution_count": null,
      "metadata": {
        "id": "nOa6WoylLjod"
      },
      "outputs": [],
      "source": [
        "# calculate the distribution:\n",
        "dist_text_len = df['lemmatized'].str.split(\" \").apply(len).value_counts(normalize=True).sort_index()"
      ]
    },
    {
      "cell_type": "code",
      "execution_count": null,
      "metadata": {
        "colab": {
          "base_uri": "https://localhost:8080/",
          "height": 282
        },
        "id": "62ArX-cWLt5y",
        "outputId": "816f46bb-4462-4930-b0ff-d8cd5096bf37"
      },
      "outputs": [
        {
          "output_type": "execute_result",
          "data": {
            "text/plain": [
              "<matplotlib.axes._subplots.AxesSubplot at 0x7fed6853d0d0>"
            ]
          },
          "metadata": {},
          "execution_count": 9
        },
        {
          "output_type": "display_data",
          "data": {
            "text/plain": [
              "<Figure size 432x288 with 1 Axes>"
            ],
            "image/png": "[encoded data removed]"
          },
          "metadata": {
            "needs_background": "light"
          }
        }
      ],
      "source": [
        "# plot the distribution:\n",
        "dist_text_len.plot()"
      ]
    },
    {
      "cell_type": "code",
      "execution_count": null,
      "metadata": {
        "colab": {
          "base_uri": "https://localhost:8080/"
        },
        "id": "W2xKp_zqLxGO",
        "outputId": "43462856-112b-41a3-a3bf-fbe602d625e9"
      },
      "outputs": [
        {
          "output_type": "execute_result",
          "data": {
            "text/plain": [
              "0.99644"
            ]
          },
          "metadata": {},
          "execution_count": 10
        }
      ],
      "source": [
        "# cumulative percent of text that contains 90 characters:\n",
        "dist_text_len.iloc[:90].sum()"
      ]
    },
    {
      "cell_type": "code",
      "execution_count": null,
      "metadata": {
        "colab": {
          "base_uri": "https://localhost:8080/"
        },
        "id": "fMVRJLDL9vLu",
        "outputId": "3b0bf6fa-3f09-472a-aa4f-c75e8871f956"
      },
      "outputs": [
        {
          "output_type": "stream",
          "name": "stdout",
          "text": [
            "New data shape: (500000, 90)\n"
          ]
        }
      ],
      "source": [
        "# Make all sequences 90 characters long (all text sequences we feed into the models\n",
        "# have the same length)\n",
        "maxlen = 90\n",
        "\n",
        "# This is achieved with the Keras pad sequences tool.\n",
        "# It cuts of sequences that are too long and adds zeros to sequences that are too short.\n",
        "data = pad_sequences(sequences, maxlen=maxlen)\n",
        "\n",
        "# There are 500.000, 90 characters sequences now\n",
        "print('New data shape: {}'.format(data.shape))"
      ]
    },
    {
      "cell_type": "markdown",
      "metadata": {
        "id": "upGa0JtjHoww"
      },
      "source": [
        "# Data Shuffling, SMOTE & Train-Test-Validation Split"
      ]
    },
    {
      "cell_type": "code",
      "execution_count": null,
      "metadata": {
        "id": "WvR4KAKx_GB_"
      },
      "outputs": [],
      "source": [
        "# turn all data into proper training and validation data:\n",
        "category = np.asarray(df['category'])"
      ]
    },
    {
      "cell_type": "code",
      "execution_count": null,
      "metadata": {
        "id": "gQlZ1WTo_LfG"
      },
      "outputs": [],
      "source": [
        "# Shuffling data\n",
        "\n",
        "# Using the length of the texts indexes are created\n",
        "# numpy's range() function. eg array([0, 1, 2, 3, 4, 5])\n",
        "indices = np.arange(data.shape[0])\n",
        "\n",
        "# The indices are shuffled on the fly, eg: array([3, 0, 1, 4, 2, 5])\n",
        "np.random.shuffle(indices)\n",
        "\n",
        "data = data[indices]  # get the shuffled texts\n",
        "category = category[indices]  # and the shuffled sentiments"
      ]
    },
    {
      "cell_type": "code",
      "execution_count": null,
      "metadata": {
        "colab": {
          "base_uri": "https://localhost:8080/"
        },
        "id": "1CGPa0z15cDR",
        "outputId": "e6e7d59a-5f15-4a59-bdb8-0c463b3c6180"
      },
      "outputs": [
        {
          "output_type": "stream",
          "name": "stdout",
          "text": [
            "x train shape: (360000, 90)\n",
            "y train shape: (360000,)\n",
            "x val shape: (40000, 90)\n",
            "y val shape: (40000,)\n",
            "x test shape: (100000, 90)\n",
            "y test shape: (100000,)\n"
          ]
        }
      ],
      "source": [
        "training_samples = 400000 #80% of the dataset\n",
        "\n",
        "# Split data\n",
        "#Train data are the 80% of the dataset\n",
        "x_train = data[:training_samples]\n",
        "y_train = category[:training_samples]\n",
        "\n",
        "#The rest 20% refers to the test data:\n",
        "x_test = data[training_samples:]\n",
        "y_test = category[training_samples:]\n",
        "\n",
        "#The validation data consist of a 10% of the train data:\n",
        "x_train, x_val, y_train, y_val =  train_test_split(x_train, y_train, \n",
        "                                                   test_size=0.1, random_state=1001)\n",
        "\n",
        "#Print the shapes of the train-test-validation data:\n",
        "print(f'x train shape: {x_train.shape}')\n",
        "print(f'y train shape: {y_train.shape}')\n",
        "\n",
        "print(f'x val shape: {x_val.shape}')\n",
        "print(f'y val shape: {y_val.shape}')\n",
        "\n",
        "print(f'x test shape: {x_test.shape}')\n",
        "print(f'y test shape: {y_test.shape}')"
      ]
    },
    {
      "cell_type": "code",
      "source": [
        "# Perform SMOTE in order to have an equal amount of data with category 0 and category 1\n",
        "# since the data are imbalanced:\n",
        "\n",
        "counter = Counter(y_train) #check the number of records in each category before SMOTE\n",
        "print('Before', counter)\n",
        "\n",
        "#Perform SMOTE in the train data\n",
        "smt=SMOTE()\n",
        "x_train, y_train = smt.fit_resample(x_train, y_train)\n",
        "\n",
        "counter = Counter(y_train) #check the number of records in each category after SMOTE\n",
        "print('After', counter)"
      ],
      "metadata": {
        "colab": {
          "base_uri": "https://localhost:8080/"
        },
        "id": "AUQ0eBP7bu94",
        "outputId": "bb51b12a-acab-48ba-b638-37a99a40aca3"
      },
      "execution_count": null,
      "outputs": [
        {
          "output_type": "stream",
          "name": "stdout",
          "text": [
            "Before Counter({0: 346996, 1: 13004})\n",
            "After Counter({1: 346996, 0: 346996})\n"
          ]
        }
      ]
    },
    {
      "cell_type": "markdown",
      "metadata": {
        "id": "vwyoVUGXImdF"
      },
      "source": [
        "# GloVe Embeddings\n",
        "It was decided to use pre-trained word embeddings (GloVe Embeddings is one of them). In order to use the GloVe Embeddings, the folder glove.6B.zip was downloaded from the Stanford website (https://nlp.stanford.edu/projects/glove/). After the folder was successfully downloaded, the embeddings were loaded into the model."
      ]
    },
    {
      "cell_type": "code",
      "execution_count": null,
      "metadata": {
        "id": "RdlwbXeR94GM"
      },
      "outputs": [],
      "source": [
        "# Create a function named 'glove_embeddings' which loads the glove embeddings\n",
        "# It receives as parameters the embeddings size (dimensions)\n",
        "def load_glove_embeddings(dim: int = 100) -> dict:\n",
        "\n",
        "    print('Loading word vectors')\n",
        "\n",
        "    embed_index = dict()  # Create a dictionary of word -> embedding\n",
        "\n",
        "    path = \"/content/drive/My Drive/MLCA_Datasets\" #access the folder under which the embeddings files exist\n",
        "    fname = f'{path}/glove.6B.{dim}d.txt' #the file of the 100 dimensions is selected\n",
        "\n",
        "    f = open(fname, encoding=\"utf8\")  # Open file\n",
        "\n",
        "    # In the dataset, each line represents a new word embedding\n",
        "    # The line starts with the word and the embedding values follow\n",
        "    for line in tqdm(f, desc='Loading Embeddings', unit='word'):\n",
        "        values = line.split()\n",
        "        # The first value is the word, the rest are the values of the embedding\n",
        "        word = values[0]\n",
        "        # Load embedding\n",
        "        embedding = np.asarray(values[1:], dtype='float32')\n",
        "\n",
        "        # Add embedding to our embedding dictionary\n",
        "        embed_index[word] = embedding\n",
        "    f.close() #close file\n",
        "\n",
        "    print('Found %s word vectors.' % len(embed_index))\n",
        "\n",
        "    return embed_index"
      ]
    },
    {
      "cell_type": "code",
      "execution_count": null,
      "metadata": {
        "colab": {
          "base_uri": "https://localhost:8080/"
        },
        "id": "jOvaZnc4AUQY",
        "outputId": "f2d4870c-365c-4f1d-f989-a03fa138953b"
      },
      "outputs": [
        {
          "output_type": "stream",
          "name": "stdout",
          "text": [
            "Loading word vectors\n"
          ]
        },
        {
          "output_type": "stream",
          "name": "stderr",
          "text": [
            "Loading Embeddings: 400000word [00:31, 12817.45word/s]"
          ]
        },
        {
          "output_type": "stream",
          "name": "stdout",
          "text": [
            "Found 400000 word vectors.\n"
          ]
        },
        {
          "output_type": "stream",
          "name": "stderr",
          "text": [
            "\n"
          ]
        }
      ],
      "source": [
        "embedding_dim = 300  # Now larger embeddings are used\n",
        "\n",
        "embeddings_index = load_glove_embeddings(dim=embedding_dim)"
      ]
    },
    {
      "cell_type": "code",
      "execution_count": null,
      "metadata": {
        "colab": {
          "base_uri": "https://localhost:8080/"
        },
        "id": "Rl2TciyRBHXX",
        "outputId": "4cf02465-eae3-4b93-9c6e-186146824c92"
      },
      "outputs": [
        {
          "output_type": "execute_result",
          "data": {
            "text/plain": [
              "(300,)"
            ]
          },
          "metadata": {},
          "execution_count": 18
        }
      ],
      "source": [
        "# Check the shape of the word 'the'\n",
        "embeddings_index['the'].shape"
      ]
    },
    {
      "cell_type": "markdown",
      "metadata": {
        "id": "AcgBbrqcLBg4"
      },
      "source": [
        "After the above actions are performed, it is important to note that in our vocabulary not all words might be in the GloVe embedding. As a result, for missing words it is wise to use random embeddings with the same mean and standard deviation as the GloVe Embeddings.\n",
        "\n",
        "In order to achieve this, the following actions were performed:"
      ]
    },
    {
      "cell_type": "code",
      "execution_count": null,
      "metadata": {
        "id": "L2GAbomRBJ3d"
      },
      "outputs": [],
      "source": [
        "# Create a function named 'create_embeddings_matrix' which receives as parameters the following:\n",
        "# emb_index: Embeddings Index\n",
        "# tokenizer: Keras fitted tokenizer.\n",
        "# emb_dim: Embeddings dimension.\n",
        "# return: A matrix of shape (nb_words, emb_dim) containing the globe embeddings.\n",
        "def create_embeddings_matrix(emb_index: dict,\n",
        "                             tokenizer: Tokenizer,\n",
        "                             emb_dim: int = 100) -> np.ndarray:\n",
        "    \n",
        "    assert emb_dim in [50, 100, 200, 300]\n",
        "\n",
        "    # Create a matrix of all embeddings\n",
        "    # (stacking=concatenating all the vectors)\n",
        "    all_embs = np.stack(emb_index.values())  # .values() gets the all the arrays from the keys\n",
        "\n",
        "    # Calculate mean\n",
        "    emb_mean = all_embs.mean()\n",
        "    # Calculate standard deviation\n",
        "    emb_std = all_embs.std()\n",
        "\n",
        "    print(\"Embeddings AVG: {} | STD: {}\".format(emb_mean, emb_std))\n",
        "\n",
        "    # Create an embedding matrix holding all word vectors.\n",
        "\n",
        "    word_index = tokenizer.word_index\n",
        "\n",
        "    # How many words are there actually. Because we may have requested X most common tokens\n",
        "    # and the total tokens are X/2\n",
        "    nb_words = min(max_words, len(word_index))\n",
        "\n",
        "    # Create a random matrix with the same mean and std as the embeddings\n",
        "\n",
        "    embedding_matrix = np.random.normal(emb_mean,  # mean\n",
        "                                        emb_std,  # std\n",
        "                                        (nb_words, emb_dim)) # shape of the matrix\n",
        "\n",
        "    # The vectors need to be in the same position as their index.\n",
        "    # Meaning a word with token 1 needs to be in the second row (rows start with zero) and so on\n",
        "    \n",
        "    counter = 0\n",
        "    \n",
        "    # Loop over all words in the word index\n",
        "    for word, i in word_index.items():  # .items() return a tuple with (word, word_index)\n",
        "\n",
        "        # If we are above the amount of words we want to use we do nothing\n",
        "        if i >= max_words:\n",
        "            continue\n",
        "\n",
        "        # Get the embedding vector for the word\n",
        "        embedding_vector = emb_index.get(word)\n",
        "\n",
        "        # If there is an embedding vector, put it in the embedding matrix\n",
        "        if embedding_vector is not None:\n",
        "            embedding_matrix[i] = embedding_vector\n",
        "            counter += 1\n",
        "    \n",
        "    print(f'Found {counter} pre-trained embeddings out of {nb_words}')\n",
        "    \n",
        "    return embedding_matrix"
      ]
    },
    {
      "cell_type": "code",
      "execution_count": null,
      "metadata": {
        "colab": {
          "base_uri": "https://localhost:8080/"
        },
        "id": "ZkwMdrDFBSbE",
        "outputId": "efb5f970-3550-4626-def2-1d57d80dc5a5"
      },
      "outputs": [
        {
          "output_type": "stream",
          "name": "stdout",
          "text": [
            "Embeddings AVG: -0.003905011573806405 | STD: 0.3817702829837799\n",
            "Found 14576 pre-trained embeddings out of 15000\n"
          ]
        }
      ],
      "source": [
        "#create the embedding_matrix:\n",
        "embedding_matrix = create_embeddings_matrix(emb_index=embeddings_index,\n",
        "                                            tokenizer=comments_tokenizer,\n",
        "                                            emb_dim=embedding_dim)"
      ]
    },
    {
      "cell_type": "markdown",
      "metadata": {
        "id": "h8ok1owyOF4q"
      },
      "source": [
        "It is important to mention that the embedding matrix will be used as weights for the embedding layer."
      ]
    },
    {
      "cell_type": "code",
      "execution_count": null,
      "metadata": {
        "id": "4dJBmbqPNfWe"
      },
      "outputs": [],
      "source": [
        "max_num_categories=2 #set maximum number of categories equal to 2\n",
        "\n",
        "labeltrain = to_categorical(y_train, num_classes=max_num_categories)\n",
        "labelval = to_categorical(y_val, num_classes=max_num_categories)\n",
        "labeltest = to_categorical(y_test, num_classes=max_num_categories)"
      ]
    },
    {
      "cell_type": "markdown",
      "metadata": {
        "id": "w1wBVy_GHlxq"
      },
      "source": [
        "# Build RNN model"
      ]
    },
    {
      "cell_type": "code",
      "execution_count": null,
      "metadata": {
        "colab": {
          "base_uri": "https://localhost:8080/"
        },
        "id": "lvUPBYwdSnDF",
        "outputId": "ff5ee2a0-3c5b-4521-be63-96d351576b41"
      },
      "outputs": [
        {
          "output_type": "stream",
          "name": "stdout",
          "text": [
            "Model: \"sequential\"\n",
            "_________________________________________________________________\n",
            " Layer (type)                Output Shape              Param #   \n",
            "=================================================================\n",
            " embedding (Embedding)       (None, 90, 300)           4500000   \n",
            "                                                                 \n",
            " spatial_dropout1d (SpatialD  (None, 90, 300)          0         \n",
            " ropout1D)                                                       \n",
            "                                                                 \n",
            " bidirectional (Bidirectiona  (None, 90, 64)           85248     \n",
            " l)                                                              \n",
            "                                                                 \n",
            " bidirectional_1 (Bidirectio  (None, 90, 32)           10368     \n",
            " nal)                                                            \n",
            "                                                                 \n",
            " global_max_pooling1d (Globa  (None, 32)               0         \n",
            " lMaxPooling1D)                                                  \n",
            "                                                                 \n",
            " dense (Dense)               (None, 16)                528       \n",
            "                                                                 \n",
            " dropout (Dropout)           (None, 16)                0         \n",
            "                                                                 \n",
            " dense_1 (Dense)             (None, 2)                 34        \n",
            "                                                                 \n",
            "=================================================================\n",
            "Total params: 4,596,178\n",
            "Trainable params: 96,178\n",
            "Non-trainable params: 4,500,000\n",
            "_________________________________________________________________\n",
            "None\n"
          ]
        }
      ],
      "source": [
        "RNN_model = Sequential() #create a sequential model\n",
        "\n",
        "#Build LSTM model with Embedding\n",
        "embedding_layer = Embedding(max_words, embedding_dim, \n",
        "                            weights=[embedding_matrix], \n",
        "                            input_length=maxlen, trainable=False)\n",
        "\n",
        "RNN_model.add(embedding_layer)\n",
        "RNN_model.add(SpatialDropout1D(0.1))\n",
        "\n",
        "#Build LSTM\n",
        "RNN_model.add(Bidirectional(LSTM(32, return_sequences=True, dropout=0.1, recurrent_dropout=0.1)))\n",
        "RNN_model.add(Bidirectional(LSTM(16, return_sequences=True, dropout=0.1, recurrent_dropout=0.1)))\n",
        "RNN_model.add(GlobalMaxPooling1D())\n",
        "\n",
        "#Build Dense layers:\n",
        "RNN_model.add(Dense(16, activation='relu'))\n",
        "RNN_model.add(Dropout(0.1))\n",
        "RNN_model.add(Dense(2, activation='softmax'))\n",
        "\n",
        "print(RNN_model.summary()) # print the model summary\n",
        "\n",
        "# Compile the model\n",
        "# Notice that we now have far fewer trainable parameters.\n",
        "RNN_model.compile(optimizer='adam',\n",
        "                loss='binary_crossentropy',\n",
        "                metrics=['acc'])"
      ]
    },
    {
      "cell_type": "code",
      "source": [
        "# Fit the model with 30 epochs and 256 batch_size:\n",
        "RNN_history = RNN_model.fit(x_train, labeltrain,\n",
        "                       epochs=30,\n",
        "                       batch_size=256,\n",
        "                       validation_data=(x_val, labelval),\n",
        "                       callbacks=[EarlyStopping(patience=2)]) #with the EarlyStopping the code will terminate earlier than 30 epochs if the val_acc does not differ significantly from epoch to epoch."
      ],
      "metadata": {
        "colab": {
          "base_uri": "https://localhost:8080/"
        },
        "id": "M0QNk4aHrgqy",
        "outputId": "1fb0c5ee-cbb5-4477-c1a0-74f00c38f745"
      },
      "execution_count": null,
      "outputs": [
        {
          "output_type": "stream",
          "name": "stdout",
          "text": [
            "Epoch 1/30\n",
            "2712/2712 [==============================] - 4419s 2s/step - loss: 0.4053 - acc: 0.8030 - val_loss: 0.3440 - val_acc: 0.8402\n",
            "Epoch 2/30\n",
            "2712/2712 [==============================] - 4447s 2s/step - loss: 0.3210 - acc: 0.8526 - val_loss: 0.3172 - val_acc: 0.8577\n",
            "Epoch 3/30\n",
            "2712/2712 [==============================] - 4392s 2s/step - loss: 0.2971 - acc: 0.8652 - val_loss: 0.3215 - val_acc: 0.8554\n",
            "Epoch 4/30\n",
            "2712/2712 [==============================] - 4332s 2s/step - loss: 0.2829 - acc: 0.8731 - val_loss: 0.2777 - val_acc: 0.8802\n",
            "Epoch 5/30\n",
            "2712/2712 [==============================] - 4337s 2s/step - loss: 0.2732 - acc: 0.8780 - val_loss: 0.3036 - val_acc: 0.8646\n",
            "Epoch 6/30\n",
            "2712/2712 [==============================] - 4330s 2s/step - loss: 0.2658 - acc: 0.8819 - val_loss: 0.2548 - val_acc: 0.8947\n",
            "Epoch 7/30\n",
            "2712/2712 [==============================] - 4314s 2s/step - loss: 0.2598 - acc: 0.8850 - val_loss: 0.2967 - val_acc: 0.8672\n",
            "Epoch 8/30\n",
            "2712/2712 [==============================] - 4318s 2s/step - loss: 0.2552 - acc: 0.8876 - val_loss: 0.2876 - val_acc: 0.8751\n"
          ]
        }
      ]
    },
    {
      "cell_type": "code",
      "execution_count": null,
      "metadata": {
        "colab": {
          "base_uri": "https://localhost:8080/"
        },
        "id": "JtLH6ytybBes",
        "outputId": "9e79a133-4fc4-489e-d48e-b0e21005527e"
      },
      "outputs": [
        {
          "output_type": "stream",
          "name": "stdout",
          "text": [
            "3125/3125 [==============================] - 184s 59ms/step - loss: 0.2813 - acc: 0.8778\n",
            "\n",
            "Test binary_crossentropy: 0.28125542402267456\n",
            "\n",
            "Test accuracy: 0.877780020236969\n"
          ]
        }
      ],
      "source": [
        "#check the test score\n",
        "score = RNN_model.evaluate(\n",
        "    x_test,                  # features\n",
        "    labeltest,                  # labels\n",
        "    #batch_size=32,           # batch size\n",
        "    verbose=1                # the most extended verbose\n",
        ")\n",
        "\n",
        "#print results:\n",
        "print('\\nTest binary_crossentropy:', score[0])\n",
        "print('\\nTest accuracy:', score[1])"
      ]
    },
    {
      "cell_type": "markdown",
      "metadata": {
        "id": "tBo44C_hCdHg"
      },
      "source": [
        "The next step in the process was to visualize the results. Two plots were created; one plot displays the training-validation accuracy and the second plot displays the training-validation loss."
      ]
    },
    {
      "cell_type": "code",
      "execution_count": null,
      "metadata": {
        "colab": {
          "base_uri": "https://localhost:8080/",
          "height": 407
        },
        "id": "k06mMzvta2zP",
        "outputId": "4f96fb6f-5ecd-4ca3-fdb1-5a46bb99d64b"
      },
      "outputs": [
        {
          "output_type": "execute_result",
          "data": {
            "text/plain": [
              "Text(0.5, 1.0, 'Training and Validation Loss')"
            ]
          },
          "metadata": {},
          "execution_count": 25
        },
        {
          "output_type": "display_data",
          "data": {
            "text/plain": [
              "<Figure size 720x432 with 2 Axes>"
            ],
            "image/png": "[encoded data removed]"
          },
          "metadata": {
            "needs_background": "light"
          }
        }
      ],
      "source": [
        "acc = RNN_history.history['acc']\n",
        "val_acc = RNN_history.history['val_acc']\n",
        "\n",
        "loss = RNN_history.history['loss']\n",
        "val_loss = RNN_history.history['val_loss']\n",
        "\n",
        "epochs_range = RNN_history.epoch\n",
        "\n",
        "plt.figure(figsize=(10, 6)) #set the size of the plots\n",
        "plt.subplot(1, 2, 1)\n",
        "\n",
        "plt.plot(epochs_range, acc, label='Training Accuracy')\n",
        "plt.plot(epochs_range, val_acc, label='Validation Accuracy')\n",
        "plt.legend(loc='lower right')\n",
        "plt.title('Training and Validation Accuracy')\n",
        "\n",
        "plt.subplot(1, 2, 2) #plots will be displayed next to each other\n",
        "plt.plot(epochs_range, loss, label='Training Loss')\n",
        "plt.plot(epochs_range, val_loss, label='Validation Loss')\n",
        "plt.legend(loc='upper right')\n",
        "plt.title('Training and Validation Loss')"
      ]
    },
    {
      "cell_type": "code",
      "execution_count": null,
      "metadata": {
        "id": "jvKzGtpLqSZe"
      },
      "outputs": [],
      "source": [
        "RNN_model.save_weights(\"RNN.hdf5\") #save model weights\n",
        "RNN_model.save(\"RNN\") #save model"
      ]
    },
    {
      "cell_type": "markdown",
      "metadata": {
        "id": "250PZZcMeZPr"
      },
      "source": [
        "# Build CNN Model"
      ]
    },
    {
      "cell_type": "code",
      "execution_count": null,
      "metadata": {
        "colab": {
          "base_uri": "https://localhost:8080/"
        },
        "id": "T2shStjFeYnt",
        "outputId": "ff7c87c2-4476-4020-e67d-4f2eaa170af7"
      },
      "outputs": [
        {
          "output_type": "stream",
          "name": "stdout",
          "text": [
            "Model: \"sequential\"\n",
            "_________________________________________________________________\n",
            " Layer (type)                Output Shape              Param #   \n",
            "=================================================================\n",
            " embedding (Embedding)       (None, 90, 300)           4500000   \n",
            "                                                                 \n",
            " spatial_dropout1d (SpatialD  (None, 90, 300)          0         \n",
            " ropout1D)                                                       \n",
            "                                                                 \n",
            " conv1d (Conv1D)             (None, 90, 256)           230656    \n",
            "                                                                 \n",
            " batch_normalization (BatchN  (None, 90, 256)          1024      \n",
            " ormalization)                                                   \n",
            "                                                                 \n",
            " conv1d_1 (Conv1D)           (None, 90, 256)           196864    \n",
            "                                                                 \n",
            " batch_normalization_1 (Batc  (None, 90, 256)          1024      \n",
            " hNormalization)                                                 \n",
            "                                                                 \n",
            " max_pooling1d (MaxPooling1D  (None, 45, 256)          0         \n",
            " )                                                               \n",
            "                                                                 \n",
            " dropout (Dropout)           (None, 45, 256)           0         \n",
            "                                                                 \n",
            " conv1d_2 (Conv1D)           (None, 45, 128)           98432     \n",
            "                                                                 \n",
            " batch_normalization_2 (Batc  (None, 45, 128)          512       \n",
            " hNormalization)                                                 \n",
            "                                                                 \n",
            " conv1d_3 (Conv1D)           (None, 45, 128)           49280     \n",
            "                                                                 \n",
            " batch_normalization_3 (Batc  (None, 45, 128)          512       \n",
            " hNormalization)                                                 \n",
            "                                                                 \n",
            " global_max_pooling1d (Globa  (None, 128)              0         \n",
            " lMaxPooling1D)                                                  \n",
            "                                                                 \n",
            " dropout_1 (Dropout)         (None, 128)               0         \n",
            "                                                                 \n",
            " dense (Dense)               (None, 64)                8256      \n",
            "                                                                 \n",
            " batch_normalization_4 (Batc  (None, 64)               256       \n",
            " hNormalization)                                                 \n",
            "                                                                 \n",
            " dense_1 (Dense)             (None, 64)                4160      \n",
            "                                                                 \n",
            " batch_normalization_5 (Batc  (None, 64)               256       \n",
            " hNormalization)                                                 \n",
            "                                                                 \n",
            " dense_2 (Dense)             (None, 64)                4160      \n",
            "                                                                 \n",
            " batch_normalization_6 (Batc  (None, 64)               256       \n",
            " hNormalization)                                                 \n",
            "                                                                 \n",
            " dropout_2 (Dropout)         (None, 64)                0         \n",
            "                                                                 \n",
            " dense_3 (Dense)             (None, 2)                 130       \n",
            "                                                                 \n",
            "=================================================================\n",
            "Total params: 5,095,778\n",
            "Trainable params: 593,858\n",
            "Non-trainable params: 4,501,920\n",
            "_________________________________________________________________\n",
            "None\n"
          ]
        }
      ],
      "source": [
        "CNN_model = Sequential() # create a sequential model\n",
        "\n",
        "# Build an embedding layer:\n",
        "embedding_layer = Embedding(max_words, embedding_dim, \n",
        "                            weights=[embedding_matrix], \n",
        "                            input_length=maxlen, trainable=False)\n",
        "CNN_model.add(embedding_layer)\n",
        "CNN_model.add(SpatialDropout1D(0.1))\n",
        "\n",
        "# add a convolutional layer & pooling operation:\n",
        "CNN_model.add(Conv1D(256, 3, activation='relu', padding=\"same\"))\n",
        "CNN_model.add(BatchNormalization())\n",
        "CNN_model.add(Conv1D(256, 3, activation='relu', padding=\"same\"))\n",
        "CNN_model.add(BatchNormalization())\n",
        "CNN_model.add(MaxPooling1D())\n",
        "CNN_model.add(Dropout(0.1))\n",
        "\n",
        "# add a second convolutional layer\n",
        "CNN_model.add(Conv1D(128, 3, activation='relu', padding=\"same\"))\n",
        "CNN_model.add(BatchNormalization())\n",
        "CNN_model.add(Conv1D(128, 3, activation='relu', padding=\"same\"))\n",
        "CNN_model.add(BatchNormalization())\n",
        "CNN_model.add(GlobalMaxPooling1D())\n",
        "CNN_model.add(Dropout(0.1))\n",
        "\n",
        "# Build dense layers\n",
        "CNN_model.add(Dense(64, activation='relu'))\n",
        "CNN_model.add(BatchNormalization())\n",
        "CNN_model.add(Dense(64, activation='relu'))\n",
        "CNN_model.add(BatchNormalization())\n",
        "CNN_model.add(Dense(64, activation='relu'))\n",
        "CNN_model.add(BatchNormalization())\n",
        "CNN_model.add(Dropout(0.1))\n",
        "\n",
        "\n",
        "CNN_model.add(Dense(2, activation='softmax'))\n",
        "\n",
        "print(CNN_model.summary()) #print model's summary\n",
        "\n",
        "# Compile the model\n",
        "# Notice that we now have far fewer trainable parameters.\n",
        "CNN_model.compile(optimizer='adam',\n",
        "                loss='categorical_crossentropy',\n",
        "                metrics=['acc'])"
      ]
    },
    {
      "cell_type": "code",
      "source": [
        "# Fit the model with 30 epochs and 256 batch_size:\n",
        "CNN_history = CNN_model.fit(x_train, labeltrain,\n",
        "                       epochs=30,\n",
        "                       batch_size=256,\n",
        "                       validation_data=(x_val, labelval),\n",
        "                       callbacks=[EarlyStopping(patience=2)]) #with the EarlyStopping the code will terminate earlier than 30 epochs if the val_acc does not differ significantly from epoch to epoch."
      ],
      "metadata": {
        "colab": {
          "base_uri": "https://localhost:8080/"
        },
        "id": "-sroZWyAbmuj",
        "outputId": "933e62de-8772-467e-a984-e630f0f04495"
      },
      "execution_count": null,
      "outputs": [
        {
          "output_type": "stream",
          "name": "stdout",
          "text": [
            "Epoch 1/30\n",
            "2711/2711 [==============================] - 4505s 2s/step - loss: 0.4090 - acc: 0.7980 - val_loss: 0.3497 - val_acc: 0.8415\n",
            "Epoch 2/30\n",
            "2711/2711 [==============================] - 4490s 2s/step - loss: 0.2927 - acc: 0.8686 - val_loss: 0.3443 - val_acc: 0.8263\n",
            "Epoch 3/30\n",
            "2711/2711 [==============================] - 4727s 2s/step - loss: 0.2579 - acc: 0.8871 - val_loss: 0.3368 - val_acc: 0.8394\n",
            "Epoch 4/30\n",
            "2711/2711 [==============================] - 4484s 2s/step - loss: 0.2344 - acc: 0.8987 - val_loss: 0.2004 - val_acc: 0.9213\n",
            "Epoch 5/30\n",
            "2711/2711 [==============================] - 4509s 2s/step - loss: 0.2156 - acc: 0.9081 - val_loss: 0.3056 - val_acc: 0.8741\n",
            "Epoch 6/30\n",
            "2711/2711 [==============================] - 4480s 2s/step - loss: 0.1997 - acc: 0.9158 - val_loss: 0.2288 - val_acc: 0.9052\n"
          ]
        }
      ]
    },
    {
      "cell_type": "code",
      "execution_count": null,
      "metadata": {
        "id": "SaIUPsBhrdZu",
        "colab": {
          "base_uri": "https://localhost:8080/"
        },
        "outputId": "191a76d5-0665-49c0-e990-afe674a35905"
      },
      "outputs": [
        {
          "output_type": "stream",
          "name": "stdout",
          "text": [
            "3125/3125 [==============================] - 199s 64ms/step - loss: 0.2260 - acc: 0.9064\n",
            "\n",
            "Test binary_crossentropy: 0.2260001301765442\n",
            "\n",
            "Test accuracy: 0.9064199924468994\n"
          ]
        }
      ],
      "source": [
        "#check the test score of the model:\n",
        "score = CNN_model.evaluate(\n",
        "    x_test,                  # features\n",
        "    labeltest,                  # labels\n",
        "    #batch_size=32,   # batch size\n",
        "    verbose=1                # the most extended verbose\n",
        ")\n",
        "\n",
        "# print the results:\n",
        "print('\\nTest binary_crossentropy:', score[0])\n",
        "print('\\nTest accuracy:', score[1])"
      ]
    },
    {
      "cell_type": "markdown",
      "metadata": {
        "id": "JiAwS22eDZ66"
      },
      "source": [
        "The next step in the process was to visualize the results. Two plots were created; one plot displays the training-validation accuracy and the second plot displays the training-validation loss."
      ]
    },
    {
      "cell_type": "code",
      "execution_count": null,
      "metadata": {
        "colab": {
          "base_uri": "https://localhost:8080/",
          "height": 407
        },
        "id": "r4d54EgDlDmb",
        "outputId": "3f0ccccd-5d84-4362-fb33-d7125d4fa311"
      },
      "outputs": [
        {
          "output_type": "execute_result",
          "data": {
            "text/plain": [
              "Text(0.5, 1.0, 'Training and Validation Loss')"
            ]
          },
          "metadata": {},
          "execution_count": 25
        },
        {
          "output_type": "display_data",
          "data": {
            "text/plain": [
              "<Figure size 720x432 with 2 Axes>"
            ],
            "image/png": "[encoded data removed]"
          },
          "metadata": {
            "needs_background": "light"
          }
        }
      ],
      "source": [
        "acc = CNN_history.history['acc']\n",
        "val_acc = CNN_history.history['val_acc']\n",
        "\n",
        "loss = CNN_history.history['loss']\n",
        "val_loss = CNN_history.history['val_loss']\n",
        "\n",
        "epochs_range = CNN_history.epoch\n",
        "\n",
        "plt.figure(figsize=(10, 6)) #set the size of the plots\n",
        "plt.subplot(1, 2, 1)\n",
        "plt.plot(epochs_range, acc, label='Training Accuracy')\n",
        "plt.plot(epochs_range, val_acc, label='Validation Accuracy')\n",
        "plt.legend(loc='lower right')\n",
        "plt.title('Training and Validation Accuracy')\n",
        "\n",
        "plt.subplot(1, 2, 2) #plots will be displayed next to each other\n",
        "plt.plot(epochs_range, loss, label='Training Loss')\n",
        "plt.plot(epochs_range, val_loss, label='Validation Loss')\n",
        "plt.legend(loc='upper right')\n",
        "plt.title('Training and Validation Loss')"
      ]
    },
    {
      "cell_type": "code",
      "source": [
        "CNN_model.save_weights(\"CNN.hdf5\") #save model weights\n",
        "CNN_model.save(\"CNN\") #save model"
      ],
      "metadata": {
        "id": "aNui_q_uHU5i"
      },
      "execution_count": null,
      "outputs": []
    },
    {
      "cell_type": "markdown",
      "source": [
        "# Confusion Matrix"
      ],
      "metadata": {
        "id": "TT1tNZ_13Pq2"
      }
    },
    {
      "cell_type": "code",
      "source": [
        "# extract the predicted probabilities\n",
        "p_pred = RNN_model.predict(x_test)\n",
        "p_pred = p_pred.flatten()\n",
        "print(p_pred.round(2))\n",
        "\n",
        "# extract the predicted class labels\n",
        "y_pred = np.where(p_pred > 0.5, 1, 0)\n",
        "print(y_pred)\n",
        "\n",
        "print(confusion_matrix(y_test, y_pred))\n",
        "\n",
        "print(classification_report(y_test, y_pred))"
      ],
      "metadata": {
        "colab": {
          "base_uri": "https://localhost:8080/"
        },
        "id": "k9VEw4h0n8q9",
        "outputId": "7412b76e-2f37-483f-906d-f0b5c1c4a5a5"
      },
      "execution_count": null,
      "outputs": [
        {
          "output_type": "stream",
          "name": "stdout",
          "text": [
            "[0.26 0.74 1.   ... 0.   1.   0.  ]\n",
            "[0 1 1 ... 0 1 0]\n"
          ]
        }
      ]
    },
    {
      "cell_type": "markdown",
      "source": [
        "# Honor Code\n",
        "Parts of code have been extracted from the code files \"a_embeddings.ipynb\" (source: https://e-mscba.dmst.aueb.gr/pluginfile.php/4978/mod_folder/content/0/a_embeddings.ipynb?forcedownload=1)"
      ],
      "metadata": {
        "id": "do6NHRGtyHzV"
      }
    }
  ],
  "metadata": {
    "colab": {
      "collapsed_sections": [],
      "name": "3_CNN_RNN_Models.ipynb",
      "provenance": []
    },
    "kernelspec": {
      "display_name": "Python 3",
      "name": "python3"
    },
    "language_info": {
      "name": "python"
    }
  },
  "nbformat": 4,
  "nbformat_minor": 0
}